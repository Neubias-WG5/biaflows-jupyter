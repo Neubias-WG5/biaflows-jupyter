{
 "cells": [
  {
   "cell_type": "markdown",
   "metadata": {},
   "source": [
    "# BIAFlows\n",
    "\n",
    "## Nuclei Tracking 2D+t\n",
    "\n",
    "### Fiji-workflow\n",
    "\n",
    "The workflow treats the time-dimension as z-dimension and does a 3D-segmentation of the objects. The resulting object slices are then reduced to a center point."
   ]
  },
  {
   "cell_type": "code",
   "execution_count": 1,
   "metadata": {},
   "outputs": [
    {
     "name": "stdout",
     "output_type": "stream",
     "text": [
      "Please enter the public key: ········\n",
      "Please enter the private key: ········\n"
     ]
    }
   ],
   "source": [
    "from getpass import getpass \n",
    "\n",
    "publicKey = getpass(\"Please enter the public key: \")\n",
    "privateKey = getpass(\"Please enter the private key: \")\n",
    "\n",
    "argv = ['--cytomine_public_key', publicKey, \n",
    " '--cytomine_host',  'biaflows.neubias.org',\n",
    " '--cytomine_private_key',  privateKey,\n",
    " '--cytomine_id_project',  '1695226', \n",
    " '--cytomine_id_software', '11244427',\n",
    " '--ij_gauss_radius',  '3',\n",
    " '--ij_threshold',  '60',\n",
    " '--ij_open_radius', '7']"
   ]
  },
  {
   "cell_type": "markdown",
   "metadata": {},
   "source": [
    "Import CytomineJob and Job and update the status information. Set the problem class to particle-tracking (PrtTrk)."
   ]
  },
  {
   "cell_type": "code",
   "execution_count": 3,
   "metadata": {},
   "outputs": [
    {
     "name": "stdout",
     "output_type": "stream",
     "text": [
      "[2019-09-23 12:20:25,031][INFO] [GET] [currentuser] CURRENT USER - 3002336 : guest | 200 OK\n",
      "[2019-09-23 12:20:25,111][INFO] [GET] [project] 1695226 : NUCLEI-TRACKING-NODIVISION | 200 OK\n",
      "[2019-09-23 12:20:25,189][INFO] [GET] [software] 11244427 : NucleiTracking-ImageJ | 200 OK\n",
      "[2019-09-23 12:20:25,255][INFO] [GET] [softwareparameter collection] 8 objects | 200 OK\n",
      "[2019-09-23 12:20:25,493][INFO] [POST] [job] 21010021 : None | 200 OK\n",
      "[2019-09-23 12:20:25,569][INFO] [GET] [user] 21010027 : JOB[guest ], 2019-09-23 12:20:25:452 | 200 OK\n",
      "[2019-09-23 12:20:25,638][INFO] [GET] [currentuser] CURRENT USER - 21010027 : JOB[guest ], 2019-09-23 12:20:25:452 | 200 OK\n",
      "[2019-09-23 12:20:25,640][INFO] Job (id:21010021) status update: \"None\" (status: RUNNING, progress: 0%)\n",
      "[2019-09-23 12:20:25,756][INFO] [PUT] [job] 21010021 : None | 200 OK\n",
      "[2019-09-23 12:20:25,847][INFO] [POST] [jobparameter] 21010034 : ij_gauss_radius | 200 OK\n",
      "[2019-09-23 12:20:25,934][INFO] [POST] [jobparameter] 21010040 : ij_threshold | 200 OK\n",
      "[2019-09-23 12:20:26,026][INFO] [POST] [jobparameter] 21010046 : ij_open_radius | 200 OK\n",
      "[2019-09-23 12:20:26,027][INFO] Job (id:21010021) status update: \"Initialisation...\" (status: RUNNING, progress: 0%)\n",
      "[2019-09-23 12:20:26,134][INFO] [PUT] [job] 21010021 : None | 200 OK\n",
      "[2019-09-23 12:20:26,136][INFO] Job (id:21010021) status update: \"Job successfully terminated\" (status: SUCCESS/TERMINATED, progress: 0%)\n",
      "[2019-09-23 12:20:26,240][INFO] [PUT] [job] 21010021 : None | 200 OK\n"
     ]
    }
   ],
   "source": [
    "import sys\n",
    "from subprocess import call\n",
    "\n",
    "from cytomine.models import Job\n",
    "from neubiaswg5.helpers import NeubiasJob, prepare_data, upload_data, upload_metrics\n",
    "from neubiaswg5 import CLASS_PRTTRK\n",
    "\n",
    "jobID=-666\n",
    "with NeubiasJob.from_cli(argv) as nj:\n",
    "    nj.job.update(status=Job.RUNNING, progress=0, statusComment=\"Initialisation...\")\n",
    "    jobID = nj.job.id\n",
    "    \n",
    "problem_cls = CLASS_PRTTRK"
   ]
  },
  {
   "cell_type": "markdown",
   "metadata": {},
   "source": [
    "#### Create local directories and download images\n",
    "\n",
    "Create the local working directories in a subfolder jobID of the user's home folder.\n",
    "\n",
    "- in: input images\n",
    "- out: output images\n",
    "- ground_truth: ground truth images\n",
    "- tmp: temporary path"
   ]
  },
  {
   "cell_type": "code",
   "execution_count": 4,
   "metadata": {},
   "outputs": [
    {
     "name": "stdout",
     "output_type": "stream",
     "text": [
      "[2019-09-23 12:22:04,483][INFO] Job (id:21010021) status update: \"Downloading images (to /home/jovyan/21010021/in)...\" (status: SUCCESS/TERMINATED, progress: 0%)\n",
      "[2019-09-23 12:22:04,677][INFO] [PUT] [job] 21010021 : None | 200 OK\n",
      "[2019-09-23 12:22:04,748][INFO] [GET] [imagegroup collection] 2 objects | 200 OK\n",
      "[2019-09-23 12:22:06,732][INFO] File downloaded successfully from http://biaflows.neubias.org/api/imagegroup/4042304/download\n",
      "[2019-09-23 12:22:08,581][INFO] File downloaded successfully from http://biaflows.neubias.org/api/imagegroup/4042708/download\n"
     ]
    }
   ],
   "source": [
    "in_images, gt_images, in_path, gt_path, out_path, tmp_path = prepare_data(problem_cls, nj, is_2d=False, **nj.flags)"
   ]
  },
  {
   "cell_type": "markdown",
   "metadata": {},
   "source": [
    "Check the downloaded input and ground-truth images. In this case there is only one time-series as input image and one time-series as ground-truth image."
   ]
  },
  {
   "cell_type": "code",
   "execution_count": 23,
   "metadata": {},
   "outputs": [
    {
     "name": "stdout",
     "output_type": "stream",
     "text": [
      "/home/jovyan/21010021/in\n",
      "total 13M\n",
      "drwxr-xr-x. 2 jovyan root 4.0K Sep 23 12:22 .\n",
      "drwxr-xr-x. 6 jovyan root 4.0K Sep 23 12:22 ..\n",
      "-rw-r--r--. 1 jovyan root  13M Sep 23 12:22 4042304.tif\n",
      "/home/jovyan/21010021/ground_truth\n",
      "total 25M\n",
      "drwxr-xr-x. 2 jovyan root 4.0K Sep 23 12:22 .\n",
      "drwxr-xr-x. 6 jovyan root 4.0K Sep 23 12:22 ..\n",
      "-rw-r--r--. 1 jovyan root  25M Sep 23 12:22 4042304.tif\n"
     ]
    }
   ],
   "source": [
    "print(in_path)\n",
    "!ls -alh $in_path\n",
    "print(gt_path)\n",
    "!ls -alh $gt_path"
   ]
  },
  {
   "cell_type": "markdown",
   "metadata": {},
   "source": [
    "#### Call the image analysis workflow "
   ]
  },
  {
   "cell_type": "code",
   "execution_count": 24,
   "metadata": {},
   "outputs": [
    {
     "name": "stdout",
     "output_type": "stream",
     "text": [
      "[2019-09-23 12:35:28,374][INFO] Job (id:21010021) status update: \"Launching workflow...\" (status: SUCCESS/TERMINATED, progress: 1%)\n",
      "[2019-09-23 12:35:28,791][INFO] [PUT] [job] 21010021 : None | 200 OK\n"
     ]
    },
    {
     "ename": "FileNotFoundError",
     "evalue": "[Errno 2] No such file or directory: './Fiji.app': './Fiji.app'",
     "output_type": "error",
     "traceback": [
      "\u001b[0;31m---------------------------------------------------------------------------\u001b[0m",
      "\u001b[0;31mFileNotFoundError\u001b[0m                         Traceback (most recent call last)",
      "\u001b[0;32m<ipython-input-24-ad49ed922d5b>\u001b[0m in \u001b[0;36m<module>\u001b[0;34m\u001b[0m\n\u001b[1;32m      3\u001b[0m                 \u001b[0;34m\"\\\"input={}, output={}, gauss_rad={}, threshold={}, open_rad={}\\\" -batch\"\u001b[0m\u001b[0;34m.\u001b[0m\u001b[0mformat\u001b[0m\u001b[0;34m(\u001b[0m\u001b[0min_path\u001b[0m\u001b[0;34m,\u001b[0m \u001b[0mout_path\u001b[0m\u001b[0;34m,\u001b[0m \u001b[0mnj\u001b[0m\u001b[0;34m.\u001b[0m\u001b[0mparameters\u001b[0m\u001b[0;34m.\u001b[0m\u001b[0mij_gauss_radius\u001b[0m\u001b[0;34m,\u001b[0m \u001b[0mnj\u001b[0m\u001b[0;34m.\u001b[0m\u001b[0mparameters\u001b[0m\u001b[0;34m.\u001b[0m\u001b[0mij_threshold\u001b[0m\u001b[0;34m,\u001b[0m \u001b[0mnj\u001b[0m\u001b[0;34m.\u001b[0m\u001b[0mparameters\u001b[0m\u001b[0;34m.\u001b[0m\u001b[0mij_open_radius\u001b[0m\u001b[0;34m)\u001b[0m\u001b[0;34m\u001b[0m\u001b[0;34m\u001b[0m\u001b[0m\n\u001b[1;32m      4\u001b[0m \u001b[0;34m\u001b[0m\u001b[0m\n\u001b[0;32m----> 5\u001b[0;31m \u001b[0mreturn_code\u001b[0m \u001b[0;34m=\u001b[0m \u001b[0mcall\u001b[0m\u001b[0;34m(\u001b[0m\u001b[0mcommand\u001b[0m\u001b[0;34m,\u001b[0m \u001b[0mshell\u001b[0m\u001b[0;34m=\u001b[0m\u001b[0;32mTrue\u001b[0m\u001b[0;34m,\u001b[0m \u001b[0mcwd\u001b[0m\u001b[0;34m=\u001b[0m\u001b[0;34m\"./Fiji.app\"\u001b[0m\u001b[0;34m)\u001b[0m  \u001b[0;31m# waits for the subprocess to return\u001b[0m\u001b[0;34m\u001b[0m\u001b[0;34m\u001b[0m\u001b[0m\n\u001b[0m\u001b[1;32m      6\u001b[0m \u001b[0;34m\u001b[0m\u001b[0m\n\u001b[1;32m      7\u001b[0m \u001b[0;32mif\u001b[0m \u001b[0mreturn_code\u001b[0m \u001b[0;34m!=\u001b[0m \u001b[0;36m0\u001b[0m\u001b[0;34m:\u001b[0m\u001b[0;34m\u001b[0m\u001b[0;34m\u001b[0m\u001b[0m\n",
      "\u001b[0;32m/srv/conda/envs/notebook/lib/python3.7/subprocess.py\u001b[0m in \u001b[0;36mcall\u001b[0;34m(timeout, *popenargs, **kwargs)\u001b[0m\n\u001b[1;32m    321\u001b[0m     \u001b[0mretcode\u001b[0m \u001b[0;34m=\u001b[0m \u001b[0mcall\u001b[0m\u001b[0;34m(\u001b[0m\u001b[0;34m[\u001b[0m\u001b[0;34m\"ls\"\u001b[0m\u001b[0;34m,\u001b[0m \u001b[0;34m\"-l\"\u001b[0m\u001b[0;34m]\u001b[0m\u001b[0;34m)\u001b[0m\u001b[0;34m\u001b[0m\u001b[0;34m\u001b[0m\u001b[0m\n\u001b[1;32m    322\u001b[0m     \"\"\"\n\u001b[0;32m--> 323\u001b[0;31m     \u001b[0;32mwith\u001b[0m \u001b[0mPopen\u001b[0m\u001b[0;34m(\u001b[0m\u001b[0;34m*\u001b[0m\u001b[0mpopenargs\u001b[0m\u001b[0;34m,\u001b[0m \u001b[0;34m**\u001b[0m\u001b[0mkwargs\u001b[0m\u001b[0;34m)\u001b[0m \u001b[0;32mas\u001b[0m \u001b[0mp\u001b[0m\u001b[0;34m:\u001b[0m\u001b[0;34m\u001b[0m\u001b[0;34m\u001b[0m\u001b[0m\n\u001b[0m\u001b[1;32m    324\u001b[0m         \u001b[0;32mtry\u001b[0m\u001b[0;34m:\u001b[0m\u001b[0;34m\u001b[0m\u001b[0;34m\u001b[0m\u001b[0m\n\u001b[1;32m    325\u001b[0m             \u001b[0;32mreturn\u001b[0m \u001b[0mp\u001b[0m\u001b[0;34m.\u001b[0m\u001b[0mwait\u001b[0m\u001b[0;34m(\u001b[0m\u001b[0mtimeout\u001b[0m\u001b[0;34m=\u001b[0m\u001b[0mtimeout\u001b[0m\u001b[0;34m)\u001b[0m\u001b[0;34m\u001b[0m\u001b[0;34m\u001b[0m\u001b[0m\n",
      "\u001b[0;32m/srv/conda/envs/notebook/lib/python3.7/subprocess.py\u001b[0m in \u001b[0;36m__init__\u001b[0;34m(self, args, bufsize, executable, stdin, stdout, stderr, preexec_fn, close_fds, shell, cwd, env, universal_newlines, startupinfo, creationflags, restore_signals, start_new_session, pass_fds, encoding, errors, text)\u001b[0m\n\u001b[1;32m    773\u001b[0m                                 \u001b[0mc2pread\u001b[0m\u001b[0;34m,\u001b[0m \u001b[0mc2pwrite\u001b[0m\u001b[0;34m,\u001b[0m\u001b[0;34m\u001b[0m\u001b[0;34m\u001b[0m\u001b[0m\n\u001b[1;32m    774\u001b[0m                                 \u001b[0merrread\u001b[0m\u001b[0;34m,\u001b[0m \u001b[0merrwrite\u001b[0m\u001b[0;34m,\u001b[0m\u001b[0;34m\u001b[0m\u001b[0;34m\u001b[0m\u001b[0m\n\u001b[0;32m--> 775\u001b[0;31m                                 restore_signals, start_new_session)\n\u001b[0m\u001b[1;32m    776\u001b[0m         \u001b[0;32mexcept\u001b[0m\u001b[0;34m:\u001b[0m\u001b[0;34m\u001b[0m\u001b[0;34m\u001b[0m\u001b[0m\n\u001b[1;32m    777\u001b[0m             \u001b[0;31m# Cleanup if the child failed starting.\u001b[0m\u001b[0;34m\u001b[0m\u001b[0;34m\u001b[0m\u001b[0;34m\u001b[0m\u001b[0m\n",
      "\u001b[0;32m/srv/conda/envs/notebook/lib/python3.7/subprocess.py\u001b[0m in \u001b[0;36m_execute_child\u001b[0;34m(self, args, executable, preexec_fn, close_fds, pass_fds, cwd, env, startupinfo, creationflags, shell, p2cread, p2cwrite, c2pread, c2pwrite, errread, errwrite, restore_signals, start_new_session)\u001b[0m\n\u001b[1;32m   1520\u001b[0m                         \u001b[0;32mif\u001b[0m \u001b[0merrno_num\u001b[0m \u001b[0;34m==\u001b[0m \u001b[0merrno\u001b[0m\u001b[0;34m.\u001b[0m\u001b[0mENOENT\u001b[0m\u001b[0;34m:\u001b[0m\u001b[0;34m\u001b[0m\u001b[0;34m\u001b[0m\u001b[0m\n\u001b[1;32m   1521\u001b[0m                             \u001b[0merr_msg\u001b[0m \u001b[0;34m+=\u001b[0m \u001b[0;34m': '\u001b[0m \u001b[0;34m+\u001b[0m \u001b[0mrepr\u001b[0m\u001b[0;34m(\u001b[0m\u001b[0merr_filename\u001b[0m\u001b[0;34m)\u001b[0m\u001b[0;34m\u001b[0m\u001b[0;34m\u001b[0m\u001b[0m\n\u001b[0;32m-> 1522\u001b[0;31m                     \u001b[0;32mraise\u001b[0m \u001b[0mchild_exception_type\u001b[0m\u001b[0;34m(\u001b[0m\u001b[0merrno_num\u001b[0m\u001b[0;34m,\u001b[0m \u001b[0merr_msg\u001b[0m\u001b[0;34m,\u001b[0m \u001b[0merr_filename\u001b[0m\u001b[0;34m)\u001b[0m\u001b[0;34m\u001b[0m\u001b[0;34m\u001b[0m\u001b[0m\n\u001b[0m\u001b[1;32m   1523\u001b[0m                 \u001b[0;32mraise\u001b[0m \u001b[0mchild_exception_type\u001b[0m\u001b[0;34m(\u001b[0m\u001b[0merr_msg\u001b[0m\u001b[0;34m)\u001b[0m\u001b[0;34m\u001b[0m\u001b[0;34m\u001b[0m\u001b[0m\n\u001b[1;32m   1524\u001b[0m \u001b[0;34m\u001b[0m\u001b[0m\n",
      "\u001b[0;31mFileNotFoundError\u001b[0m: [Errno 2] No such file or directory: './Fiji.app': './Fiji.app'"
     ]
    }
   ],
   "source": [
    "nj.job.update(progress=25, statusComment=\"Launching workflow...\")\n",
    "command = \"/usr/bin/xvfb-run ./ImageJ-linux64 -macro NucleiTracking.ijm \" \\\n",
    "\t\t\"\\\"input={}, output={}, gauss_rad={}, threshold={}, open_rad={}\\\" -batch\".format(in_path, out_path, nj.parameters.ij_gauss_radius, nj.parameters.ij_threshold, nj.parameters.ij_open_radius)\n",
    "\n",
    "return_code = call(command, shell=True, cwd=\"./Fiji.app\")  # waits for the subprocess to return\n",
    "\n",
    "if return_code != 0:\n",
    "    err_desc = \"Failed to execute the ImageJ macro (return code: {})\".format(return_code)\n",
    "    nj.job.update(progress=50, statusComment=err_desc)\n",
    "    raise ValueError(err_desc)\n",
    "nj.job.update(progress=30, statusComment=\"Workflow finished...\")"
   ]
  },
  {
   "cell_type": "code",
   "execution_count": null,
   "metadata": {},
   "outputs": [],
   "source": []
  }
 ],
 "metadata": {
  "kernelspec": {
   "display_name": "Python 3",
   "language": "python",
   "name": "python3"
  },
  "language_info": {
   "codemirror_mode": {
    "name": "ipython",
    "version": 3
   },
   "file_extension": ".py",
   "mimetype": "text/x-python",
   "name": "python",
   "nbconvert_exporter": "python",
   "pygments_lexer": "ipython3",
   "version": "3.7.3"
  }
 },
 "nbformat": 4,
 "nbformat_minor": 2
}
