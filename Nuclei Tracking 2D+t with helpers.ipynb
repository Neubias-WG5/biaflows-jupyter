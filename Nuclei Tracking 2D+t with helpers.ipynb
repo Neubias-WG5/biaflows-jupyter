{
 "cells": [
  {
   "cell_type": "markdown",
   "metadata": {},
   "source": [
    "# BIAFlows\n",
    "\n",
    "## Nuclei Tracking 2D+t\n",
    "\n",
    "### Fiji-workflow\n",
    "\n",
    "The workflow treats the time-dimension as z-dimension and does a 3D-segmentation of the objects. The resulting object slices are then reduced to a center point."
   ]
  },
  {
   "cell_type": "code",
   "execution_count": 2,
   "metadata": {},
   "outputs": [
    {
     "name": "stdout",
     "output_type": "stream",
     "text": [
      "Please enter the public key: ········\n",
      "Please enter the private key: ········\n"
     ]
    }
   ],
   "source": [
    "from getpass import getpass \n",
    "\n",
    "publicKey = getpass(\"Please enter the public key: \")\n",
    "privateKey = getpass(\"Please enter the private key: \")\n",
    "\n",
    "argv = ['--cytomine_public_key', publicKey, \n",
    " '--cytomine_host',  'biaflows.neubias.org',\n",
    " '--cytomine_private_key',  privateKey,\n",
    " '--cytomine_id_project',  '1695226', \n",
    " '--cytomine_id_software', '11244427',\n",
    " '--ij_gauss_radius',  '3',\n",
    " '--ij_threshold',  '60',\n",
    " '--ij_open_radius', '7']"
   ]
  },
  {
   "cell_type": "markdown",
   "metadata": {},
   "source": [
    "Import CytomineJob and Job and update the status information. Set the problem class to particle-tracking (PrtTrk)."
   ]
  },
  {
   "cell_type": "code",
   "execution_count": 3,
   "metadata": {},
   "outputs": [
    {
     "name": "stdout",
     "output_type": "stream",
     "text": [
      "[2019-10-11 13:49:38,612][INFO] [GET] [currentuser] CURRENT USER - 3002336 : guest | 200 OK\n",
      "[2019-10-11 13:49:38,878][INFO] [GET] [project] 1695226 : NUCLEI-TRACKING-NODIVISION | 200 OK\n",
      "[2019-10-11 13:49:39,142][INFO] [GET] [software] 11244427 : NucleiTracking-ImageJ | 200 OK\n",
      "[2019-10-11 13:49:39,393][INFO] [GET] [softwareparameter collection] 8 objects | 200 OK\n",
      "[2019-10-11 13:49:39,755][INFO] [POST] [job] 21022225 : None | 200 OK\n",
      "[2019-10-11 13:49:40,015][INFO] [GET] [user] 21022231 : JOB[guest ], 2019-10-11 13:49:39:663 | 200 OK\n",
      "[2019-10-11 13:49:40,270][INFO] [GET] [currentuser] CURRENT USER - 21022231 : JOB[guest ], 2019-10-11 13:49:39:663 | 200 OK\n",
      "[2019-10-11 13:49:40,272][INFO] Job (id:21022225) status update: \"None\" (status: RUNNING, progress: 0%)\n",
      "[2019-10-11 13:49:40,614][INFO] [PUT] [job] 21022225 : None | 200 OK\n",
      "[2019-10-11 13:49:40,939][INFO] [POST] [jobparameter] 21022238 : ij_gauss_radius | 200 OK\n",
      "[2019-10-11 13:49:41,259][INFO] [POST] [jobparameter] 21022244 : ij_threshold | 200 OK\n",
      "[2019-10-11 13:49:41,596][INFO] [POST] [jobparameter] 21022250 : ij_open_radius | 200 OK\n",
      "[2019-10-11 13:49:41,598][INFO] Job (id:21022225) status update: \"Initialisation...\" (status: RUNNING, progress: 0%)\n",
      "[2019-10-11 13:49:41,892][INFO] [PUT] [job] 21022225 : None | 200 OK\n",
      "[2019-10-11 13:49:41,893][INFO] Job (id:21022225) status update: \"Job successfully terminated\" (status: SUCCESS/TERMINATED, progress: 0%)\n",
      "[2019-10-11 13:49:42,200][INFO] [PUT] [job] 21022225 : None | 200 OK\n"
     ]
    }
   ],
   "source": [
    "import sys\n",
    "from subprocess import call\n",
    "\n",
    "from cytomine.models import Job\n",
    "from neubiaswg5.helpers import NeubiasJob, prepare_data, upload_data, upload_metrics\n",
    "from neubiaswg5 import CLASS_PRTTRK\n",
    "\n",
    "jobID=-666\n",
    "with NeubiasJob.from_cli(argv) as nj:\n",
    "    nj.job.update(status=Job.RUNNING, progress=0, statusComment=\"Initialisation...\")\n",
    "    jobID = nj.job.id\n",
    "    \n",
    "problem_cls = CLASS_PRTTRK"
   ]
  },
  {
   "cell_type": "markdown",
   "metadata": {},
   "source": [
    "#### Create local directories and download images\n",
    "\n",
    "Create the local working directories in a subfolder jobID of the user's home folder.\n",
    "\n",
    "- in: input images\n",
    "- out: output images\n",
    "- ground_truth: ground truth images\n",
    "- tmp: temporary path"
   ]
  },
  {
   "cell_type": "code",
   "execution_count": 4,
   "metadata": {},
   "outputs": [
    {
     "name": "stdout",
     "output_type": "stream",
     "text": [
      "[2019-10-11 13:49:47,494][INFO] Job (id:21022225) status update: \"Downloading images (to /home/jovyan/21022225/in)...\" (status: SUCCESS/TERMINATED, progress: 0%)\n",
      "[2019-10-11 13:49:47,796][INFO] [PUT] [job] 21022225 : None | 200 OK\n",
      "[2019-10-11 13:49:48,053][INFO] [GET] [imagegroup collection] 2 objects | 200 OK\n",
      "[2019-10-11 13:49:50,179][INFO] File downloaded successfully from http://biaflows.neubias.org/api/imagegroup/4042304/download\n",
      "[2019-10-11 13:49:51,849][INFO] File downloaded successfully from http://biaflows.neubias.org/api/imagegroup/4042708/download\n"
     ]
    }
   ],
   "source": [
    "in_images, gt_images, in_path, gt_path, out_path, tmp_path = prepare_data(problem_cls, nj, is_2d=False, **nj.flags)"
   ]
  },
  {
   "cell_type": "markdown",
   "metadata": {},
   "source": [
    "Check the downloaded input and ground-truth images. In this case there is only one time-series as input image and one time-series as ground-truth image."
   ]
  },
  {
   "cell_type": "code",
   "execution_count": 5,
   "metadata": {},
   "outputs": [
    {
     "name": "stdout",
     "output_type": "stream",
     "text": [
      "/home/jovyan/21022225/in\n",
      "total 13M\n",
      "drwxr-xr-x 2 jovyan jovyan 4.0K Oct 11 13:49 .\n",
      "drwxr-xr-x 6 jovyan jovyan 4.0K Oct 11 13:49 ..\n",
      "-rw-r--r-- 1 jovyan jovyan  13M Oct 11 13:49 4042304.tif\n",
      "/home/jovyan/21022225/ground_truth\n",
      "total 25M\n",
      "drwxr-xr-x 2 jovyan jovyan 4.0K Oct 11 13:49 .\n",
      "drwxr-xr-x 6 jovyan jovyan 4.0K Oct 11 13:49 ..\n",
      "-rw-r--r-- 1 jovyan jovyan  25M Oct 11 13:49 4042304.tif\n"
     ]
    }
   ],
   "source": [
    "print(in_path)\n",
    "!ls -alh $in_path\n",
    "print(gt_path)\n",
    "!ls -alh $gt_path"
   ]
  },
  {
   "cell_type": "markdown",
   "metadata": {},
   "source": [
    "#### Call the image analysis workflow "
   ]
  },
  {
   "cell_type": "code",
   "execution_count": 6,
   "metadata": {},
   "outputs": [
    {
     "name": "stdout",
     "output_type": "stream",
     "text": [
      "[2019-10-11 13:49:54,736][INFO] Job (id:21022225) status update: \"Launching workflow...\" (status: SUCCESS/TERMINATED, progress: 1%)\n",
      "[2019-10-11 13:49:55,119][INFO] [PUT] [job] 21022225 : None | 200 OK\n",
      "[2019-10-11 13:50:38,556][INFO] Job (id:21022225) status update: \"Workflow finished...\" (status: SUCCESS/TERMINATED, progress: 25%)\n",
      "[2019-10-11 13:50:38,908][INFO] [PUT] [job] 21022225 : None | 200 OK\n"
     ]
    },
    {
     "data": {
      "text/plain": [
       "<cytomine.models.software.Job at 0x7ffb1837b160>"
      ]
     },
     "execution_count": 6,
     "metadata": {},
     "output_type": "execute_result"
    }
   ],
   "source": [
    "nj.job.update(progress=25, statusComment=\"Launching workflow...\")\n",
    "command = \"/usr/bin/xvfb-run ./ImageJ-linux64 -macro macro.ijm \\\"input={}, output={}, gauss_rad={}, threshold={}, open_rad={}\\\" -batch\".format(in_path, out_path, nj.parameters.ij_gauss_radius, nj.parameters.ij_threshold, nj.parameters.ij_open_radius)\n",
    "\n",
    "return_code = call(command, shell=True, cwd=\"./fiji\")  # waits for the subprocess to return\n",
    "\n",
    "if return_code != 0:\n",
    "    err_desc = \"Failed to execute the ImageJ macro (return code: {})\".format(return_code)\n",
    "    nj.job.update(progress=50, statusComment=err_desc)\n",
    "    raise ValueError(err_desc)\n",
    "nj.job.update(progress=30, statusComment=\"Workflow finished...\")"
   ]
  },
  {
   "cell_type": "markdown",
   "metadata": {},
   "source": [
    "#### Visualize the result of the workflow"
   ]
  },
  {
   "cell_type": "code",
   "execution_count": 7,
   "metadata": {},
   "outputs": [
    {
     "name": "stdout",
     "output_type": "stream",
     "text": [
      "open(\"/home/jovyan/21022225/in/4042304.tif\"); \n",
      "cellsStackID = getImageID(); \n",
      "run(\"Duplicate...\", \" \"); \n",
      "cellsTitle = getTitle(); \n",
      "selectImage(cellsStackID); \n",
      "close(); \n",
      "open(\"/home/jovyan/21022225/out/4042304.tif\"); \n",
      "tracesStackID = getImageID(); \n",
      "run(\"Z Project...\", \"projection=[Max Intensity]\"); \n",
      "run(\"3-3-2 RGB\"); \n",
      "run(\"Maximum...\", \"radius=4\"); \n",
      "run(\"8-bit\"); \n",
      "tracesTitle = getTitle(); \n",
      "run(\"Merge Channels...\", \"c2=\"+tracesTitle+\" c4=\"+cellsTitle+\" create\"); \n",
      "selectImage(tracesStackID); \n",
      "close(); \n",
      "overlayID = getImageID(); \n",
      "run(\"Capture Image\"); \n",
      "selectImage(overlayID); \n",
      "close(); \n",
      "resultTitle=getTitle(); \n",
      "saveAs(\"jpeg\", \"/home/jovyan/21022225/tmp/4042304\"); \n",
      "close(); \n",
      "run(\"Quit\"); \n",
      "\n"
     ]
    }
   ],
   "source": [
    "macro = '\\\n",
    "open(\"'+in_path + '/' + str(in_images[0].object.id)+'.tif\"); \\n\\\n",
    "cellsStackID = getImageID(); \\n\\\n",
    "run(\"Duplicate...\", \" \"); \\n\\\n",
    "cellsTitle = getTitle(); \\n\\\n",
    "selectImage(cellsStackID); \\n\\\n",
    "close(); \\n\\\n",
    "open(\"'+out_path + '/' + str(in_images[0].object.id)+'.tif\"); \\n\\\n",
    "tracesStackID = getImageID(); \\n\\\n",
    "run(\"Z Project...\", \"projection=[Max Intensity]\"); \\n\\\n",
    "run(\"3-3-2 RGB\"); \\n\\\n",
    "run(\"Maximum...\", \"radius=4\"); \\n\\\n",
    "run(\"8-bit\"); \\n\\\n",
    "tracesTitle = getTitle(); \\n\\\n",
    "run(\"Merge Channels...\", \"c2=\"+tracesTitle+\" c4=\"+cellsTitle+\" create\"); \\n\\\n",
    "selectImage(tracesStackID); \\n\\\n",
    "close(); \\n\\\n",
    "overlayID = getImageID(); \\n\\\n",
    "run(\"Capture Image\"); \\n\\\n",
    "selectImage(overlayID); \\n\\\n",
    "close(); \\n\\\n",
    "resultTitle=getTitle(); \\n\\\n",
    "saveAs(\"jpeg\", \"'+tmp_path+'/'+str(in_images[0].object.id)+'\"); \\n\\\n",
    "close(); \\n\\\n",
    "run(\"Quit\"); \\n\\\n",
    "'\n",
    "\n",
    "file = open(tmp_path + \"/visualize_tracks.ijm\", \"w\") \n",
    " \n",
    "file.write(macro) \n",
    "file.close() \n",
    "\n",
    "print(macro)"
   ]
  },
  {
   "cell_type": "code",
   "execution_count": 8,
   "metadata": {},
   "outputs": [],
   "source": [
    "command = \"/usr/bin/xvfb-run ./ImageJ-linux64 -macro \"+tmp_path + \"/visualize_tracks.ijm -batch\"\n",
    "\n",
    "return_code = call(command, shell=True, cwd=\"./fiji\")  # waits for the subprocess to return\n",
    "\n",
    "if return_code > 1:\n",
    "    err_desc = \"Failed to execute the ImageJ macro (return code: {})\".format(return_code)\n",
    "    nj.job.update(progress=50, statusComment=err_desc)\n",
    "    raise ValueError(err_desc)"
   ]
  },
  {
   "cell_type": "code",
   "execution_count": 9,
   "metadata": {},
   "outputs": [
    {
     "data": {
      "image/jpeg": "[encoded data removed]",
      "text/plain": [
       "<IPython.core.display.Image object>"
      ]
     },
     "execution_count": 9,
     "metadata": {},
     "output_type": "execute_result"
    }
   ],
   "source": [
    "from IPython.display import Image\n",
    "Image(filename = tmp_path+'/'+str(in_images[0].object.id)+'.jpg')"
   ]
  },
  {
   "cell_type": "markdown",
   "metadata": {},
   "source": [
    "#### Calculate metrics"
   ]
  },
  {
   "cell_type": "code",
   "execution_count": 12,
   "metadata": {},
   "outputs": [
    {
     "name": "stdout",
     "output_type": "stream",
     "text": [
      "[2019-10-11 13:53:38,435][INFO] Job (id:21022225) status update: \"Computing and uploading metrics...\" (status: SUCCESS/TERMINATED, progress: 80%)\n",
      "[2019-10-11 13:53:38,762][INFO] [PUT] [job] 21022225 : None | 200 OK\n"
     ]
    }
   ],
   "source": [
    "from neubiaswg5.metrics import computemetrics_batch\n",
    "from cytomine.models import Property\n",
    "import os\n",
    "os.chdir(\"/home/jovyan/neubiaswg5-utilities/neubiaswg5/metrics\")\n",
    "import re\n",
    "import shutil\n",
    "import sys\n",
    "import subprocess \n",
    "from sklearn.metrics import f1_score\n",
    "from sklearn.metrics import accuracy_score\n",
    "from sklearn.metrics import precision_score\n",
    "from sklearn.metrics import recall_score\n",
    "from sklearn.metrics import confusion_matrix\n",
    "import numpy as np\n",
    "from scipy import ndimage\n",
    "import tifffile as tiff\n",
    "from scipy.spatial import cKDTree\n",
    "from neubiaswg5 import *\n",
    "from neubiaswg5 import CLASS_LNDDET\n",
    "from img_to_xml import *\n",
    "from img_to_seq import *\n",
    "from skl2obj import *\n",
    "from netmets_obj import netmets_obj\n",
    "from node_sorter import swc_node_sorter\n",
    "from node_sorter import findchildren\n",
    "\n",
    "os.chdir(\"/home/jovyan/\")\n",
    "\n",
    "def computemetrics(infile, reffile, problemclass, tmpfolder, verbose=True, **extra_params):\n",
    "    outputs = _computemetrics(infile, reffile, problemclass, tmpfolder, **extra_params)\n",
    "    return outputs\n",
    "\n",
    "\n",
    "def get_image_metadata(tiff):\n",
    "    import xml.etree.ElementTree as ET\n",
    "    return list(list(ET.fromstring(tiff.ome_metadata))[0])[0].attrib\n",
    "\n",
    "\n",
    "def get_dimensions(tiff, time=False):\n",
    "    array = tiff.asarray()\n",
    "    T, Z = 1, 1\n",
    "    if array.ndim > 2:\n",
    "        metadata = get_image_metadata(tiff)\n",
    "        Y, X = int(metadata['SizeY']), int(metadata['SizeX'])\n",
    "        if array.ndim > 3 or time:\n",
    "            T = int(metadata['SizeT'])\n",
    "        if array.ndim > 3 or not time:\n",
    "            Z = int(metadata['SizeZ'])\n",
    "    else:\n",
    "        Y, X = array.shape\n",
    "    return T, Z, Y, X\n",
    "\n",
    "\n",
    "def _computemetrics(infile, reffile, problemclass, tmpfolder, **extra_params):\n",
    "    # Remove all xml and txt (temporary) files in tmpfolder\n",
    "    filelist = [ f for f in os.listdir(tmpfolder) if (f.endswith(\".xml\") or f.endswith(\".txt\")) ]\n",
    "    for f in filelist:\n",
    "        os.remove(os.path.join(tmpfolder, f))\n",
    "\n",
    "    # Remove all (temporary) subdirectories in tmpfolder\n",
    "    for subdir in next(os.walk(tmpfolder))[1]:\n",
    "        shutil.rmtree(os.path.join(tmpfolder, subdir), ignore_errors=True)\n",
    "\n",
    "    metrics_dict = {}\n",
    "    params_dict = {}\n",
    "    \n",
    "\n",
    "    # Read metadata from reference image (OME-TIFF)\n",
    "    img = tiff.TiffFile(reffile)\n",
    "    T, Z, Y, X = get_dimensions(img, time=False)\n",
    "\n",
    "    # Convert non null pixels coordinates to track files\n",
    "    ref_xml_fname = os.path.join(tmpfolder, \"reftracks.xml\")\n",
    "    tracks_to_xml(ref_xml_fname, img_to_tracks(reffile,X,Y,Z,T), True)\n",
    "    in_xml_fname = os.path.join(tmpfolder, \"intracks.xml\")\n",
    "    tracks_to_xml(in_xml_fname, img_to_tracks(infile,X,Y,Z,T), True)\n",
    "    res_fname = in_xml_fname + \".score.txt\"\n",
    "\n",
    "    # Call tracking metric code\n",
    "    gating_dist = extra_params.get(\"gating_dist\", 5)\n",
    "    # the fourth parameter represents the gating distance\n",
    "    os.system('java -jar /home/jovyan/neubiaswg5-utilities/bin/TrackingPerformance.jar -r ' + ref_xml_fname + ' -c ' + in_xml_fname + ' -o ' + res_fname + ' ' + str(gating_dist))\n",
    "\n",
    "    # Parse the output file created automatically in tmpfolder\n",
    "    with open(res_fname, \"r\") as f:\n",
    "        bchmetrics = [line.split(':')[0].strip() for line in f.readlines()]\n",
    "\n",
    "    metric_names = [\n",
    "        \"PD\", \"NPSA\", \"FNPSB\", \"NRT\", \"NCT\",\n",
    "        \"JST\", \"NPT\", \"NMT\", \"NST\", \"NRD\",\n",
    "        \"NCD\", \"JSD\", \"NPD\", \"NMD\", \"NSD\"\n",
    "    ]\n",
    "    metrics_dict.update({name: value for name, value in zip(metric_names, bchmetrics)})\n",
    "    params_dict[\"GATING_DIST\"] = gating_dist\n",
    "\n",
    "    return metrics_dict, params_dict\n",
    "\n",
    "nj.job.update(progress=80, statusComment=\"Computing and uploading metrics...\")\n",
    "outfiles, reffiles = zip(*[\n",
    "    (os.path.join(out_path, \"{}.tif\".format(image.object.id)),\n",
    "     os.path.join(gt_path, \"{}.tif\".format(image.object.id)))\n",
    "    for image in in_images\n",
    "])\n",
    "\n",
    "for infile, reffile in zip(outfiles, reffiles):\n",
    "    metrics = computemetrics(infile, reffile, problem_cls, tmp_path, {})"
   ]
  },
  {
   "cell_type": "code",
   "execution_count": 14,
   "metadata": {},
   "outputs": [
    {
     "name": "stdout",
     "output_type": "stream",
     "text": [
      "/home/jovyan/21022225/tmp/intracks.xml.score.txt\n",
      "354.38499817254285\t : pairing distance\n",
      "\n",
      "0.5806094696182924\t : normalized pairing score (alpha)\n",
      "\n",
      "0.5084093283186084\t : full normalized score (beta)\n",
      "\n",
      "169\t : number of reference tracks\n",
      "\n",
      "169\t : number of candidate tracks\n",
      "\n",
      "0.7512953367875648\t : Similarity between tracks (Jaccard)\n",
      "\n",
      "145\t : number of paired tracks\n",
      "\n",
      "24\t : number of missed tracks (out of 169)\n",
      "\n",
      "24\t : number of spurious tracks)\n",
      "\n",
      "169\t : number of reference detections\n",
      "\n",
      "169\t : number of candidate detections\n",
      "\n",
      "0.7512953367875648\t : Similarity between detections (Jaccard)\n",
      "\n",
      "145\t : number of paired detections\n",
      "\n",
      "24\t : number of missed detections (out of 169)\n",
      "\n",
      "24\t : number of spurious detections\n",
      "\n"
     ]
    }
   ],
   "source": [
    "path = tmp_path+'/'+\"intracks.xml.score.txt\"\n",
    "print(path)\n",
    "with open(path) as file:\n",
    "    for line in file:\n",
    "        print(line)"
   ]
  },
  {
   "cell_type": "code",
   "execution_count": 13,
   "metadata": {},
   "outputs": [
    {
     "name": "stdout",
     "output_type": "stream",
     "text": [
      "test\n"
     ]
    }
   ],
   "source": [
    "print(\"test\")"
   ]
  },
  {
   "cell_type": "code",
   "execution_count": null,
   "metadata": {},
   "outputs": [],
   "source": []
  }
 ],
 "metadata": {
  "kernelspec": {
   "display_name": "Python 3",
   "language": "python",
   "name": "python3"
  },
  "language_info": {
   "codemirror_mode": {
    "name": "ipython",
    "version": 3
   },
   "file_extension": ".py",
   "mimetype": "text/x-python",
   "name": "python",
   "nbconvert_exporter": "python",
   "pygments_lexer": "ipython3",
   "version": "3.7.3"
  }
 },
 "nbformat": 4,
 "nbformat_minor": 2
}
